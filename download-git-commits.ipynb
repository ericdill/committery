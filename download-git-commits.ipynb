{
 "cells": [
  {
   "cell_type": "markdown",
   "metadata": {},
   "source": [
    "# Download commit info from a list of github organizations"
   ]
  },
  {
   "cell_type": "code",
   "execution_count": 1,
   "metadata": {
    "collapsed": false
   },
   "outputs": [],
   "source": [
    "import github3\n",
    "import pandas as pd\n",
    "from collections import deque"
   ]
  },
  {
   "cell_type": "code",
   "execution_count": null,
   "metadata": {
    "collapsed": true
   },
   "outputs": [],
   "source": [
    "# go here to get a github OAuth token --> https://github.com/settings/tokens"
   ]
  },
  {
   "cell_type": "code",
   "execution_count": 2,
   "metadata": {
    "collapsed": false
   },
   "outputs": [],
   "source": [
    "gh = github3.login(token='xxxxxxxxx')"
   ]
  },
  {
   "cell_type": "code",
   "execution_count": 3,
   "metadata": {
    "collapsed": true
   },
   "outputs": [],
   "source": [
    "def fetch_commits_for_user(user, blacklisted_repos=None):\n",
    "    # repos that I don't care about are listed in 'blacklisted_repos'\n",
    "    if not blacklisted_repos:\n",
    "        blacklisted_repos = ['homebrew',]\n",
    "    all_repos = list(gh.repositories_by(user))\n",
    "    repos = deque()\n",
    "    authors = deque()\n",
    "    messages = deque()\n",
    "    dates = deque()\n",
    "    committers = deque()\n",
    "    shas = deque()\n",
    "#     all_repos = nsls2_repos + Nikea_repos + skxray_repos + beamline_repos + flattened\n",
    "    for idx, repo in enumerate(all_repos):\n",
    "        # make all repo names lowercase\n",
    "        repo_name = repo.full_name.lower()\n",
    "        if any([blacklisted in repo_name for blacklisted in blacklisted_repos]):\n",
    "            # don't process this blacklisted repo\n",
    "            print('skipping %s. It is blacklisted. %s of %s' % (repo, idx+1, len(all_repos)))\n",
    "            continue\n",
    "        print('processing %s. %s of %s' % (repo, idx+1, len(all_repos)))\n",
    "\n",
    "        try:\n",
    "            commits = list(repo.commits())\n",
    "        except github3.exceptions.ClientError:\n",
    "            continue\n",
    "        for commit in commits:\n",
    "            repos.append(repo_name)\n",
    "            committer = commit.commit.committer['name']\n",
    "            committers.append(committer)\n",
    "            try:\n",
    "                authors.append(commit.author.login)\n",
    "            except AttributeError:\n",
    "                # there is no reported author of this commit.\n",
    "                # use the name of the committer instead.\n",
    "                authors.append(committer)\n",
    "    #             print('commit %s from repo %s has no author' % (commit.sha, repo_name))\n",
    "            messages.append(commit.commit.message)\n",
    "    #         print(commit.commit.committer/)\n",
    "            dates.append(commit.commit.committer['date'])\n",
    "            shas.append(commit.sha)\n",
    "    return {\n",
    "        'repo': repos,\n",
    "        'authors': authors,\n",
    "        'messages': messages,\n",
    "        'dates': dates,\n",
    "        'committers': committers,\n",
    "        'shas': shas,\n",
    "    }"
   ]
  },
  {
   "cell_type": "code",
   "execution_count": 4,
   "metadata": {
    "collapsed": false
   },
   "outputs": [
    {
     "name": "stdout",
     "output_type": "stream",
     "text": [
      "processing soft-matter/mr. 1 of 8\n",
      "processing soft-matter/pims. 2 of 8\n",
      "processing soft-matter/pims_nd2. 3 of 8\n",
      "processing soft-matter/slicerator. 4 of 8\n",
      "processing soft-matter/sm_core. 5 of 8\n",
      "processing soft-matter/trackpy. 6 of 8\n",
      "processing soft-matter/trackpy-examples. 7 of 8\n",
      "processing soft-matter/yaml-serialize. 8 of 8\n"
     ]
    }
   ],
   "source": [
    "softmatter_commits = fetch_commits_for_user('soft-matter')"
   ]
  },
  {
   "cell_type": "code",
   "execution_count": 5,
   "metadata": {
    "collapsed": false
   },
   "outputs": [
    {
     "name": "stdout",
     "output_type": "stream",
     "text": [
      "processing matplotlib/basemap. 1 of 15\n",
      "processing matplotlib/cmocean. 2 of 15\n",
      "processing matplotlib/cycler. 3 of 15\n",
      "processing matplotlib/devdocs. 4 of 15\n",
      "processing matplotlib/freetypy. 5 of 15\n",
      "processing matplotlib/matplotlib. 6 of 15\n",
      "processing matplotlib/matplotlib-jenkins. 7 of 15\n",
      "processing matplotlib/matplotlib.github.com. 8 of 15\n",
      "processing matplotlib/mplsizer. 9 of 15\n",
      "processing matplotlib/mpl_mac_testing. 10 of 15\n",
      "processing matplotlib/natgrid. 11 of 15\n",
      "processing matplotlib/sampledoc. 12 of 15\n",
      "processing matplotlib/sample_data. 13 of 15\n",
      "processing matplotlib/trendvis. 14 of 15\n",
      "processing matplotlib/viscm. 15 of 15\n"
     ]
    }
   ],
   "source": [
    "matplotlib_commits = fetch_commits_for_user('matplotlib')"
   ]
  },
  {
   "cell_type": "code",
   "execution_count": 6,
   "metadata": {
    "collapsed": false
   },
   "outputs": [
    {
     "name": "stdout",
     "output_type": "stream",
     "text": [
      "processing NSLS-II/album. 1 of 26\n",
      "processing NSLS-II/bluesky. 2 of 26\n",
      "processing NSLS-II/brokerStreamServer. 3 of 26\n",
      "processing NSLS-II/Bug-Reports. 4 of 26\n",
      "processing NSLS-II/carchivetools. 5 of 26\n",
      "processing NSLS-II/channelarchiver. 6 of 26\n",
      "processing NSLS-II/conda-prescriptions. 7 of 26\n",
      "processing NSLS-II/configs. 8 of 26\n",
      "processing NSLS-II/databroker. 9 of 26\n",
      "processing NSLS-II/datamuxer. 10 of 26\n",
      "processing NSLS-II/dataportal. 11 of 26\n",
      "processing NSLS-II/docs. 12 of 26\n",
      "processing NSLS-II/EXLog. 13 of 26\n",
      "processing NSLS-II/filestore. 14 of 26\n",
      "processing NSLS-II/lz4-plugin. 15 of 26\n",
      "processing NSLS-II/metadatastore. 16 of 26\n",
      "processing NSLS-II/NSLS-II.github.io. 17 of 26\n",
      "processing NSLS-II/ophyd. 18 of 26\n",
      "processing NSLS-II/ophyd-examples. 19 of 26\n",
      "processing NSLS-II/pyepics. 20 of 26\n",
      "processing NSLS-II/pyOlog. 21 of 26\n",
      "processing NSLS-II/replay. 22 of 26\n",
      "processing NSLS-II/sampleManager. 23 of 26\n",
      "processing NSLS-II/suitcase. 24 of 26\n",
      "processing NSLS-II/vertical-integration. 25 of 26\n",
      "processing NSLS-II/wishlist. 26 of 26\n"
     ]
    }
   ],
   "source": [
    "nsls2_commits = fetch_commits_for_user('NSLS-II')"
   ]
  },
  {
   "cell_type": "code",
   "execution_count": 7,
   "metadata": {
    "collapsed": false
   },
   "outputs": [
    {
     "name": "stdout",
     "output_type": "stream",
     "text": [
      "processing scikit-xray/scikit-xray. 1 of 5\n",
      "processing scikit-xray/scikit-xray-bench. 2 of 5\n",
      "processing scikit-xray/scikit-xray-examples. 3 of 5\n",
      "processing scikit-xray/scikit-xray-feedstock. 4 of 5\n",
      "processing scikit-xray/scikit-xray-feedstock-dev. 5 of 5\n"
     ]
    }
   ],
   "source": [
    "skxray_commits = fetch_commits_for_user('scikit-xray')"
   ]
  },
  {
   "cell_type": "code",
   "execution_count": 8,
   "metadata": {
    "collapsed": false
   },
   "outputs": [
    {
     "name": "stdout",
     "output_type": "stream",
     "text": [
      "processing Nikea/benchmark_scripts. 1 of 8\n",
      "processing Nikea/history. 2 of 8\n",
      "processing Nikea/nikea.github.io. 3 of 8\n",
      "processing Nikea/nsls2_gui. 4 of 8\n",
      "processing Nikea/pyXPCS. 5 of 8\n",
      "processing Nikea/VisTrails. 6 of 8\n",
      "processing Nikea/VTTools. 7 of 8\n",
      "processing Nikea/xray-vision. 8 of 8\n"
     ]
    }
   ],
   "source": [
    "Nikea_commits = fetch_commits_for_user('Nikea')"
   ]
  },
  {
   "cell_type": "code",
   "execution_count": 9,
   "metadata": {
    "collapsed": false
   },
   "outputs": [
    {
     "name": "stdout",
     "output_type": "stream",
     "text": [
      "processing NSLS-II-CSX/acopian. 1 of 27\n",
      "processing NSLS-II-CSX/baffleslits. 2 of 27\n",
      "processing NSLS-II-CSX/Bug-Reports. 3 of 27\n",
      "processing NSLS-II-CSX/CAAutoConfig. 4 of 27\n",
      "processing NSLS-II-CSX/CableDatabase. 5 of 27\n",
      "processing NSLS-II-CSX/calibration. 6 of 27\n",
      "processing NSLS-II-CSX/conda-recipes. 7 of 27\n",
      "processing NSLS-II-CSX/csxtools. 8 of 27\n",
      "processing NSLS-II-CSX/FastCCDConfig. 9 of 27\n",
      "processing NSLS-II-CSX/ipython_ophyd. 10 of 27\n",
      "processing NSLS-II-CSX/lakeshore336. 11 of 27\n",
      "processing NSLS-II-CSX/libcin. 12 of 27\n",
      "processing NSLS-II-CSX/logbook. 13 of 27\n",
      "processing NSLS-II-CSX/lupit. 14 of 27\n",
      "processing NSLS-II-CSX/NSLS-II-CSX.github.io. 15 of 27\n",
      "processing NSLS-II-CSX/nsls2NotifyMe. 16 of 27\n",
      "processing NSLS-II-CSX/omegaM4061. 17 of 27\n",
      "processing NSLS-II-CSX/ophyd. 18 of 27\n",
      "processing NSLS-II-CSX/pyepics. 19 of 27\n",
      "processing NSLS-II-CSX/pyVLSPGM. 20 of 27\n",
      "processing NSLS-II-CSX/qcinview. 21 of 27\n",
      "processing NSLS-II-CSX/SRW. 22 of 27\n",
      "processing NSLS-II-CSX/stanfordDG645. 23 of 27\n",
      "processing NSLS-II-CSX/testIoc. 24 of 27\n",
      "processing NSLS-II-CSX/timestamp. 25 of 27\n",
      "processing NSLS-II-CSX/undcontrol. 26 of 27\n",
      "processing NSLS-II-CSX/vlspgm. 27 of 27\n",
      "processing NSLS-II-CHX/chxtools. 1 of 3\n",
      "processing NSLS-II-CHX/eiger_tools. 2 of 3\n",
      "processing NSLS-II-CHX/ipython_ophyd. 3 of 3\n",
      "processing NSLS-II-HXN/hxntools. 1 of 3\n",
      "processing NSLS-II-HXN/ipython_ophyd. 2 of 3\n",
      "processing NSLS-II-HXN/PyXRF. 3 of 3\n",
      "processing NSLS-II-SRX/controlsui. 1 of 4\n",
      "processing NSLS-II-SRX/ipython_ophyd. 2 of 4\n",
      "processing NSLS-II-SRX/nsls2-xf-utils. 3 of 4\n",
      "processing NSLS-II-SRX/srxtools. 4 of 4\n",
      "processing NSLS-II-XPD/ipython_ophyd. 1 of 2\n",
      "processing NSLS-II-XPD/xpdtools. 2 of 2\n",
      "processing NSLS-II-IXS/ipython_ophyd. 1 of 1\n"
     ]
    }
   ],
   "source": [
    "csx_commits = fetch_commits_for_user('NSLS-II-CSX')\n",
    "chx_commits = fetch_commits_for_user('NSLS-II-CHX')\n",
    "hxn_commits = fetch_commits_for_user('NSLS-II-HXN')\n",
    "srx_commits = fetch_commits_for_user('NSLS-II-SRX')\n",
    "xpd_commits = fetch_commits_for_user('NSLS-II-XPD')\n",
    "ixs_commits = fetch_commits_for_user('NSLS-II-IXS')"
   ]
  },
  {
   "cell_type": "code",
   "execution_count": 10,
   "metadata": {
    "collapsed": false
   },
   "outputs": [
    {
     "name": "stdout",
     "output_type": "stream",
     "text": [
      "processing VisTrails/DAT. 1 of 2\n",
      "processing VisTrails/VisTrails. 2 of 2\n"
     ]
    }
   ],
   "source": [
    "vistrails_commits = fetch_commits_for_usertch_commits_for_user('VisTrails')"
   ]
  },
  {
   "cell_type": "code",
   "execution_count": 13,
   "metadata": {
    "collapsed": false
   },
   "outputs": [
    {
     "name": "stdout",
     "output_type": "stream",
     "text": [
      "processing ericdill/album. 1 of 83\n",
      "processing ericdill/anaconda-build. 2 of 83\n",
      "processing ericdill/archiver. 3 of 83\n",
      "processing ericdill/asv. 4 of 83\n",
      "processing ericdill/auto-enaml. 5 of 83\n",
      "processing ericdill/benchmark_scripts. 6 of 83\n",
      "processing ericdill/bluesky. 7 of 83\n",
      "processing ericdill/bokeh. 8 of 83\n",
      "processing ericdill/boltons. 9 of 83\n",
      "processing ericdill/brokerStreamServer. 10 of 83\n",
      "processing ericdill/chxtools. 11 of 83\n",
      "processing ericdill/committery. 12 of 83\n",
      "processing ericdill/CompStats. 13 of 83\n",
      "processing ericdill/conda-builder. 14 of 83\n",
      "processing ericdill/conda-prescriptions. 15 of 83\n",
      "processing ericdill/conda-recipes. 16 of 83\n",
      "processing ericdill/conda-smithy. 17 of 83\n",
      "processing ericdill/controlsui. 18 of 83\n",
      "processing ericdill/csxtools. 19 of 83\n",
      "processing ericdill/databroker. 20 of 83\n",
      "processing ericdill/datamuxer. 21 of 83\n",
      "processing ericdill/demoCSX. 22 of 83\n",
      "processing ericdill/diffpy.srfit. 23 of 83\n",
      "processing ericdill/diffpy.srxplanar. 24 of 83\n",
      "processing ericdill/diffpy.Structure. 25 of 83\n",
      "processing ericdill/docker-demo-images. 26 of 83\n",
      "processing ericdill/docs. 27 of 83\n",
      "processing ericdill/docs.anaconda.org. 28 of 83\n",
      "processing ericdill/DocumentsInLabNotebooks. 29 of 83\n",
      "processing ericdill/dummyBroker. 30 of 83\n",
      "processing ericdill/eapy. 31 of 83\n",
      "processing ericdill/enaml. 32 of 83\n",
      "processing ericdill/fileStore. 33 of 83\n",
      "processing ericdill/filestore-v0.0.2-feedstock. 34 of 83\n",
      "processing ericdill/github-changelog-generator. 35 of 83\n",
      "processing ericdill/hexrd. 36 of 83\n",
      "processing ericdill/history. 37 of 83\n",
      "processing ericdill/hkl. 38 of 83\n",
      "processing ericdill/hkl-conda. 39 of 83\n",
      "processing ericdill/image_inspector. 40 of 83\n",
      "processing ericdill/kivy. 41 of 83\n",
      "processing ericdill/libcin. 42 of 83\n",
      "processing ericdill/matplotlib. 43 of 83\n",
      "processing ericdill/mdsbenchmark. 44 of 83\n",
      "processing ericdill/metadatastore. 45 of 83\n",
      "processing ericdill/miniature-hipster. 46 of 83\n",
      "processing ericdill/mongoengine. 47 of 83\n",
      "processing ericdill/notes-dev. 48 of 83\n",
      "processing ericdill/NSLS-II.github.io. 49 of 83\n",
      "processing ericdill/ophyd. 50 of 83\n",
      "processing ericdill/pandas. 51 of 83\n",
      "processing ericdill/pims. 52 of 83\n",
      "processing ericdill/PlasticSim. 53 of 83\n",
      "processing ericdill/psmouse-dkms-alpsv7. 54 of 83\n",
      "processing ericdill/pyatoms. 55 of 83\n",
      "processing ericdill/pyepics. 56 of 83\n",
      "processing ericdill/pymca. 57 of 83\n",
      "processing ericdill/pyOlog. 58 of 83\n",
      "processing ericdill/pyqtgraph. 59 of 83\n",
      "processing ericdill/pyRafters. 60 of 83\n",
      "processing ericdill/pyspec. 61 of 83\n",
      "processing ericdill/pytest. 62 of 83\n",
      "processing ericdill/python_qt_binding. 63 of 83\n",
      "processing ericdill/pyxda. 64 of 83\n",
      "processing ericdill/pyXPCS. 65 of 83\n",
      "processing ericdill/PyXRF. 66 of 83\n",
      "processing ericdill/RamDog. 67 of 83\n",
      "processing ericdill/replay. 68 of 83\n",
      "processing ericdill/scikit-image. 69 of 83\n",
      "processing ericdill/scikit-xray. 70 of 83\n",
      "processing ericdill/scikit-xray-examples. 71 of 83\n",
      "processing ericdill/scipy_2015_sklearn_tutorial. 72 of 83\n",
      "processing ericdill/spotpick. 73 of 83\n",
      "processing ericdill/suitcase. 74 of 83\n",
      "processing ericdill/super_state_machine. 75 of 83\n",
      "processing ericdill/tomopy. 76 of 83\n",
      "processing ericdill/tutorials. 77 of 83\n",
      "processing ericdill/versioneer. 78 of 83\n",
      "processing ericdill/vispy. 79 of 83\n",
      "processing ericdill/VisTrails. 80 of 83\n",
      "processing ericdill/VTTools. 81 of 83\n",
      "processing ericdill/whatsmyversion. 82 of 83\n",
      "processing ericdill/xray-vision. 83 of 83\n"
     ]
    }
   ],
   "source": [
    "ericdill_commits = fetch_commits_for_user('ericdill')"
   ]
  },
  {
   "cell_type": "code",
   "execution_count": 14,
   "metadata": {
    "collapsed": false
   },
   "outputs": [
    {
     "name": "stdout",
     "output_type": "stream",
     "text": [
      "processing danielballan/asv. 1 of 94\n",
      "processing danielballan/auto-enaml. 2 of 94\n",
      "processing danielballan/banyan. 3 of 94\n",
      "processing danielballan/blog. 4 of 94\n",
      "processing danielballan/bluesky. 5 of 94\n",
      "processing danielballan/bokeh. 6 of 94\n",
      "processing danielballan/channelarchiver. 7 of 94\n",
      "processing danielballan/conda-build-missing. 8 of 94\n",
      "processing danielballan/conda-docs. 9 of 94\n",
      "processing danielballan/conda-kernels. 10 of 94\n",
      "processing danielballan/conda-prescriptions. 11 of 94\n",
      "processing danielballan/conda-recipes. 12 of 94\n",
      "processing danielballan/conda-smithy. 13 of 94\n",
      "processing danielballan/counterpoint. 14 of 94\n",
      "processing danielballan/cycler. 15 of 94\n",
      "processing danielballan/datamuxer. 16 of 94\n",
      "processing danielballan/dataportal. 17 of 94\n",
      "processing danielballan/diffpy.srxplanar. 18 of 94\n",
      "processing danielballan/docker-demo-images. 19 of 94\n",
      "processing danielballan/docs. 20 of 94\n",
      "processing danielballan/Event-Organiser. 21 of 94\n",
      "processing danielballan/fetch. 22 of 94\n",
      "processing danielballan/filestore. 23 of 94\n",
      "processing danielballan/hashdist. 24 of 94\n",
      "processing danielballan/hashstack. 25 of 94\n",
      "processing danielballan/hexrd. 26 of 94\n",
      "processing danielballan/hickle. 27 of 94\n",
      "processing danielballan/history. 28 of 94\n",
      "processing danielballan/image_inspector. 29 of 94\n",
      "processing danielballan/ipython. 30 of 94\n",
      "processing danielballan/IPython-notebook-extensions. 31 of 94\n",
      "processing danielballan/ipython-widgetmode. 32 of 94\n",
      "processing danielballan/ipython_extensions. 33 of 94\n",
      "processing danielballan/ipywidgets. 34 of 94\n",
      "processing danielballan/jhu-thesis-template. 35 of 94\n",
      "processing danielballan/jsonsocket. 36 of 94\n",
      "processing danielballan/jupyter. 37 of 94\n",
      "processing danielballan/jupyterhub. 38 of 94\n",
      "processing danielballan/jupyter_client. 39 of 94\n",
      "processing danielballan/jupyter_core. 40 of 94\n",
      "processing danielballan/leaftletwidget. 41 of 94\n",
      "processing danielballan/lmfit-py. 42 of 94\n",
      "processing danielballan/matplotlib. 43 of 94\n",
      "processing danielballan/mdsbenchmark. 44 of 94\n",
      "processing danielballan/metadataStore. 45 of 94\n",
      "processing danielballan/mpld3. 46 of 94\n",
      "processing danielballan/mr. 47 of 94\n",
      "processing danielballan/multipledispatch. 48 of 94\n",
      "processing danielballan/needle. 49 of 94\n",
      "processing danielballan/notebook. 50 of 94\n",
      "processing danielballan/numpy. 51 of 94\n",
      "processing danielballan/Obvious-CI. 52 of 94\n",
      "processing danielballan/OpenTLD. 53 of 94\n",
      "processing danielballan/ophyd. 54 of 94\n",
      "processing danielballan/package_with_continuous_delivery. 55 of 94\n",
      "processing danielballan/pandas. 56 of 94\n",
      "processing danielballan/photoactivation-paper. 57 of 94\n",
      "processing danielballan/photomosaic. 58 of 94\n",
      "processing danielballan/pims. 59 of 94\n",
      "processing danielballan/planner. 60 of 94\n",
      "processing danielballan/probablyscripts. 61 of 94\n",
      "processing danielballan/PyAV. 62 of 94\n",
      "processing danielballan/pyOlog. 63 of 94\n",
      "processing danielballan/pypsalg. 64 of 94\n",
      "processing danielballan/python-appveyor-conda-example. 65 of 94\n",
      "processing danielballan/python-gedcom. 66 of 94\n",
      "processing danielballan/python-video-converter. 67 of 94\n",
      "processing danielballan/remotekernel. 68 of 94\n",
      "processing danielballan/replay. 69 of 94\n",
      "processing danielballan/rk. 70 of 94\n",
      "processing danielballan/scikit-image. 71 of 94\n",
      "processing danielballan/scikit-xray. 72 of 94\n",
      "processing danielballan/scikit-xray-examples. 73 of 94\n",
      "processing danielballan/scipy-tutorial-2014. 74 of 94\n",
      "processing danielballan/scipy_2015_sklearn_tutorial. 75 of 94\n",
      "processing danielballan/seaborn. 76 of 94\n",
      "processing danielballan/sharelatex. 77 of 94\n",
      "processing danielballan/slicerator. 78 of 94\n",
      "processing danielballan/sm_core. 79 of 94\n",
      "processing danielballan/snase-notebooks. 80 of 94\n",
      "processing danielballan/soft-matter.github.io-trackpy. 81 of 94\n",
      "processing danielballan/statsmodels. 82 of 94\n",
      "processing danielballan/thebe. 83 of 94\n",
      "processing danielballan/trackpy. 84 of 94\n",
      "processing danielballan/trackpy-bench. 85 of 94\n",
      "processing danielballan/trackpy-examples. 86 of 94\n",
      "processing danielballan/video. 87 of 94\n",
      "processing danielballan/vistools. 88 of 94\n",
      "processing danielballan/VisTrails. 89 of 94\n",
      "processing danielballan/widget-history. 90 of 94\n",
      "processing danielballan/xray-vision. 91 of 94\n",
      "processing danielballan/xraylib. 92 of 94\n",
      "processing danielballan/yaml-serialize. 93 of 94\n",
      "processing danielballan/zvi_reader. 94 of 94\n"
     ]
    }
   ],
   "source": [
    "danielballan_commits = fetch_commits_for_user('danielballan')"
   ]
  },
  {
   "cell_type": "code",
   "execution_count": 15,
   "metadata": {
    "collapsed": false
   },
   "outputs": [
    {
     "name": "stdout",
     "output_type": "stream",
     "text": [
      "processing dchabot/adsim. 1 of 15\n",
      "processing dchabot/areadetector-1-9-1. 2 of 15\n",
      "processing dchabot/bluesky. 3 of 15\n",
      "processing dchabot/caautoconfig. 4 of 15\n",
      "processing dchabot/cls-orbitcontrol. 5 of 15\n",
      "processing dchabot/diffcalc. 6 of 15\n",
      "processing dchabot/dotfiles. 7 of 15\n",
      "processing dchabot/hkl. 8 of 15\n",
      "processing dchabot/motor-synapps. 9 of 15\n",
      "processing dchabot/motorsim. 10 of 15\n",
      "processing dchabot/ophyd. 11 of 15\n",
      "processing dchabot/pyepics. 12 of 15\n",
      "processing dchabot/python-pcaspy. 13 of 15\n",
      "processing dchabot/quadem. 14 of 15\n",
      "processing dchabot/synapps-mca. 15 of 15\n",
      "processing arkilic/filestore. 1 of 5\n",
      "processing arkilic/mdsbenchmark. 2 of 5\n",
      "processing arkilic/metadatastore. 3 of 5\n",
      "processing arkilic/pvaPy. 4 of 5\n",
      "processing arkilic/v4table_example. 5 of 5\n",
      "processing cowanml/cookiecutter-pylibrary. 1 of 6\n",
      "processing cowanml/lsdc. 2 of 6\n",
      "processing cowanml/metadatastore. 3 of 6\n",
      "processing cowanml/samplemanager. 4 of 6\n",
      "processing cowanml/samplemangler. 5 of 6\n",
      "processing cowanml/sysv-rc-softioc. 6 of 6\n",
      "processing areaDetector/ADADSC. 1 of 35\n",
      "processing areaDetector/ADAndor. 2 of 35\n",
      "processing areaDetector/ADAndor3. 3 of 35\n",
      "processing areaDetector/ADBinaries. 4 of 35\n",
      "processing areaDetector/ADBruker. 5 of 35\n",
      "processing areaDetector/ADCore. 6 of 35\n",
      "processing areaDetector/ADDexela. 7 of 35\n",
      "processing areaDetector/ADExample. 8 of 35\n",
      "processing areaDetector/ADFastCCD. 9 of 35\n",
      "processing areaDetector/ADFireWireWin. 10 of 35\n",
      "processing areaDetector/ADLambda. 11 of 35\n",
      "processing areaDetector/ADLightField. 12 of 35\n",
      "processing areaDetector/ADmar345. 13 of 35\n",
      "processing areaDetector/ADmarCCD. 14 of 35\n",
      "processing areaDetector/ADMerlin. 15 of 35\n",
      "processing areaDetector/ADMythen. 16 of 35\n",
      "processing areaDetector/ADnED. 17 of 35\n",
      "processing areaDetector/ADPerkinElmer. 18 of 35\n",
      "processing areaDetector/ADPICam. 19 of 35\n",
      "processing areaDetector/ADPilatus. 20 of 35\n",
      "processing areaDetector/ADPixirad. 21 of 35\n",
      "processing areaDetector/ADPluginEdge. 22 of 35\n",
      "processing areaDetector/ADPointGrey. 23 of 35\n",
      "processing areaDetector/ADProsilica. 24 of 35\n",
      "processing areaDetector/ADPSL. 25 of 35\n",
      "processing areaDetector/ADPvAccess. 26 of 35\n",
      "processing areaDetector/ADPvCam. 27 of 35\n",
      "processing areaDetector/ADQImaging. 28 of 35\n",
      "processing areaDetector/ADRoper. 29 of 35\n",
      "processing areaDetector/ADURL. 30 of 35\n",
      "processing areaDetector/aravisGigE. 31 of 35\n",
      "processing areaDetector/areaDetector. 32 of 35\n",
      "processing areaDetector/ffmpegServer. 33 of 35\n",
      "processing areaDetector/ffmpegViewer. 34 of 35\n",
      "processing areaDetector/firewireDCAM. 35 of 35\n"
     ]
    }
   ],
   "source": [
    "dchabot_commits = fetch_commits_for_user('dchabot')\n",
    "arkilic_commits = fetch_commits_for_user('arkilic')\n",
    "cowanml_commits = fetch_commits_for_user('cowanml')\n",
    "areaDetector_commits = fetch_commits_for_user('areaDetector')"
   ]
  },
  {
   "cell_type": "code",
   "execution_count": 28,
   "metadata": {
    "collapsed": false
   },
   "outputs": [
    {
     "name": "stdout",
     "output_type": "stream",
     "text": [
      "processing synchbot/metadataclientv4. 1 of 3\n",
      "processing synchbot/metadataservice. 2 of 3\n",
      "processing synchbot/metadatastorev4. 3 of 3\n"
     ]
    }
   ],
   "source": [
    "synchbot_commits = fetch_commits_for_user('synchbot')"
   ]
  },
  {
   "cell_type": "code",
   "execution_count": 41,
   "metadata": {
    "collapsed": false
   },
   "outputs": [
    {
     "name": "stdout",
     "output_type": "stream",
     "text": [
      "processing klauer/ADMerlin. 1 of 31\n",
      "processing klauer/anc300. 2 of 31\n",
      "processing klauer/atr142. 3 of 31\n",
      "processing klauer/bluesky. 4 of 31\n",
      "processing klauer/build_opi. 5 of 31\n",
      "processing klauer/conda-prescriptions. 6 of 31\n",
      "processing klauer/ddrive. 7 of 31\n",
      "processing klauer/dotfiles. 8 of 31\n",
      "processing klauer/ECLI. 9 of 31\n",
      "processing klauer/EZ4axis. 10 of 31\n",
      "processing klauer/f460. 11 of 31\n",
      "processing klauer/hkl. 12 of 31\n",
      "processing klauer/ipplan. 13 of 31\n",
      "processing klauer/mmc100. 14 of 31\n",
      "processing klauer/ophyd. 15 of 31\n",
      "processing klauer/pmcv. 16 of 31\n",
      "processing klauer/PMD101. 17 of 31\n",
      "processing klauer/pmd90. 18 of 31\n",
      "processing klauer/ppmac. 19 of 31\n",
      "processing klauer/PVRename. 20 of 31\n",
      "processing klauer/pyepics. 21 of 31\n",
      "processing klauer/pympx. 22 of 31\n",
      "processing klauer/pyosxdict. 23 of 31\n",
      "processing klauer/pyzygo. 24 of 31\n",
      "processing klauer/qolibri. 25 of 31\n",
      "processing klauer/simple_scaler. 26 of 31\n",
      "processing klauer/sios. 27 of 31\n",
      "processing klauer/smarpod. 28 of 31\n",
      "processing klauer/stepscan. 29 of 31\n",
      "processing klauer/tpmac. 30 of 31\n",
      "processing klauer/xspress3. 31 of 31\n"
     ]
    }
   ],
   "source": [
    "klauer_commits = fetch_commits_for_user('klauer')"
   ]
  },
  {
   "cell_type": "code",
   "execution_count": 42,
   "metadata": {
    "collapsed": false
   },
   "outputs": [],
   "source": [
    "commit_order = [\n",
    "    skxray_commits,\n",
    "    softmatter_commits,\n",
    "    vistrails_commits,\n",
    "    matplotlib_commits,\n",
    "    areaDetector_commits,\n",
    "    nsls2_commits,\n",
    "    Nikea_commits,\n",
    "    chx_commits,\n",
    "    csx_commits,\n",
    "    hxn_commits,\n",
    "    srx_commits,\n",
    "    ixs_commits,\n",
    "    xpd_commits,\n",
    "    synchbot_commits,\n",
    "    ericdill_commits,\n",
    "    danielballan_commits,\n",
    "    dchabot_commits,\n",
    "    arkilic_commits,\n",
    "    cowanml_commits,\n",
    "    klauer_commits,\n",
    "]"
   ]
  },
  {
   "cell_type": "code",
   "execution_count": 30,
   "metadata": {
    "collapsed": true
   },
   "outputs": [],
   "source": [
    "from collections import defaultdict"
   ]
  },
  {
   "cell_type": "code",
   "execution_count": 43,
   "metadata": {
    "collapsed": false
   },
   "outputs": [],
   "source": [
    "df = defaultdict(deque)\n",
    "for commits in commit_order:\n",
    "    for column_name, column in commits.items():\n",
    "        df[column_name].extend(column)\n",
    "df = pd.DataFrame(df)\n",
    "    \n",
    "# dfs = {repo_name: pd.DataFrame({column_name: pd.Series(column) for column_name, column in repo_data.items()}) \n",
    "#        for repo_name, repo_data in repo_info.items()}"
   ]
  },
  {
   "cell_type": "code",
   "execution_count": 44,
   "metadata": {
    "collapsed": false
   },
   "outputs": [
    {
     "data": {
      "text/plain": [
       "291595"
      ]
     },
     "execution_count": 44,
     "metadata": {},
     "output_type": "execute_result"
    }
   ],
   "source": [
    "len(df)"
   ]
  },
  {
   "cell_type": "code",
   "execution_count": 45,
   "metadata": {
    "collapsed": false,
    "scrolled": false
   },
   "outputs": [],
   "source": [
    "cleaned_df = df.drop_duplicates('shas').copy()"
   ]
  },
  {
   "cell_type": "code",
   "execution_count": 46,
   "metadata": {
    "collapsed": false
   },
   "outputs": [
    {
     "data": {
      "text/plain": [
       "182540"
      ]
     },
     "execution_count": 46,
     "metadata": {},
     "output_type": "execute_result"
    }
   ],
   "source": [
    "len(cleaned_df)"
   ]
  },
  {
   "cell_type": "code",
   "execution_count": 47,
   "metadata": {
    "collapsed": false
   },
   "outputs": [],
   "source": [
    "# # remove the user name where the repo came from\n",
    "# repo_names = [repo.split('/')[-1] for repo in cleaned_df.repo]\n",
    "# cleaned_df.update({'repo': pd.Series(repo_names)})"
   ]
  },
  {
   "cell_type": "code",
   "execution_count": 48,
   "metadata": {
    "collapsed": true
   },
   "outputs": [],
   "source": [
    "map_people = {\n",
    "    'daniel allan': 'danielballan',\n",
    "    'arman arkilic': 'arkilic',\n",
    "    'daron chabot': 'dchabot',\n",
    "    'thomas caswell': 'tacaswell',\n",
    "}"
   ]
  },
  {
   "cell_type": "code",
   "execution_count": 49,
   "metadata": {
    "collapsed": false
   },
   "outputs": [],
   "source": [
    "from collections import deque\n",
    "authors = deque()\n",
    "for idx, (author, committer) in enumerate(zip(cleaned_df.authors, cleaned_df.committers)):\n",
    "    if author == 'unknown':\n",
    "        author = committer\n",
    "    author = author.lower()\n",
    "    if author in map_people:\n",
    "        author = map_people[author]\n",
    "    authors.append(str(author).lower())\n",
    "cleaned_df['authors'] = authors"
   ]
  },
  {
   "cell_type": "code",
   "execution_count": 50,
   "metadata": {
    "collapsed": true
   },
   "outputs": [],
   "source": [
    "cleaned_df.to_csv('cleaned-commit-info.csv')"
   ]
  },
  {
   "cell_type": "code",
   "execution_count": null,
   "metadata": {
    "collapsed": true
   },
   "outputs": [],
   "source": []
  }
 ],
 "metadata": {
  "kernelspec": {
   "display_name": "Python 3",
   "language": "python",
   "name": "python3"
  },
  "language_info": {
   "codemirror_mode": {
    "name": "ipython",
    "version": 3
   },
   "file_extension": ".py",
   "mimetype": "text/x-python",
   "name": "python",
   "nbconvert_exporter": "python",
   "pygments_lexer": "ipython3",
   "version": "3.4.3"
  }
 },
 "nbformat": 4,
 "nbformat_minor": 0
}
